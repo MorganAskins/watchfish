{
 "cells": [
  {
   "cell_type": "markdown",
   "metadata": {},
   "source": [
    "## Reading data from ROOT using UpROOT\n",
    "\n",
    "_For flat data structures, it's very simple to read in data using uproot,\n",
    "especially when that data can fit in memory. In this example we read a ROOT file\n",
    "in and store the data in a DataFrame. The data is then split 80/20, with the first\n",
    "80 used to form the predicted hypothesis/spectrum, and the last 20 used for validation._"
   ]
  },
  {
   "cell_type": "code",
   "execution_count": null,
   "metadata": {},
   "outputs": [],
   "source": [
    "push!(LOAD_PATH, \"../src/\")\n",
    "using Batman\n",
    "using DataFrames\n",
    "# import Random: rand\n",
    "using Distributions\n",
    "# using StatsPlots; pyplot()\n",
    "using PyPlot\n",
    "plt.style.use(\"bat.mplstyle\")\n"
   ]
  },
  {
   "cell_type": "markdown",
   "metadata": {},
   "source": [
    "### Readiness Checklist\n",
    "_Once this checklist is completed, it can be removed and this module is complete_\n",
    "- [x] Read in an arbitrary root file (produced externally)\n",
    "- [x] Produce multiple 1D PDFs\n",
    "- [ ] Produce a 2D PDF\n",
    "- [ ] Produce a ... 4D PDF?\n",
    "- [x] Mock dataset to fit to a 1D PDF\n",
    "- [ ] Fit to the 2D distribution (extended likelihood)\n",
    "- [ ] Produce uncertainties\n",
    "- [x] Bias\n",
    "- [x] Pull"
   ]
  },
  {
   "cell_type": "code",
   "execution_count": null,
   "metadata": {},
   "outputs": [],
   "source": [
    "# MODEL MC\n",
    "signalMC = DataStructures.rootreader(\"assets/signal.root\", \"bat\")\n",
    "bkgMC = DataStructures.rootreader(\"assets/background.root\", \"bat\")\n",
    "bins = collect(-20:0.1:20);"
   ]
  },
  {
   "cell_type": "code",
   "execution_count": null,
   "metadata": {},
   "outputs": [],
   "source": [
    "import Interpolations\n",
    "# Build Model: First take PDF from histogram to get generic function\n",
    "sig_itp = HistogramPDF(signalMC, :energy; bins=bins, extrapolate=Interpolations.Flat())\n",
    "sig_pos = HistogramPDF(signalMC, :position; bins=bins)\n",
    "bkg_itp = HistogramPDF(bkgMC, :energy, bins=bins)\n",
    "bkg_pos = HistogramPDF(bkgMC, :position; bins=bins)\n",
    "\n",
    "model = SpectralMonofit()\n",
    "s = add_parameter!(model, \"signal\", 20.0)\n",
    "b = add_parameter!(model, \"background\", 500.0; σ=1.0 )\n",
    "\n",
    "add_observable!(model, :energy, -20.0, 20.0)\n",
    "add_observable!(model, :position, -20.0, 20.0)\n",
    "add_dataset(:tb1, DataFrame(energy=Float64[], position=Float64[]))\n",
    "\n",
    "# Each dataset should have a LogPDF of its own\n",
    "#add_dataset(:tb1, data)\n",
    "#f1 = constructPDF!(model, s, [sig_itp], [:energy], :tb1)\n",
    "#f2 = constructPDF!(model, b, [bkg_itp], [:energy], :tb1)\n",
    "#f1 = constructPDF!(model, s, [sig_pos], [:position], :tb1)\n",
    "#f2 = constructPDF!(model, b, [bkg_pos], [:position], :tb1)\n",
    "f1 = constructPDF!(model, s, [sig_itp,sig_pos], [:energy, :position], :tb1)\n",
    "f2 = constructPDF!(model, b, [bkg_itp,bkg_pos], [:energy, :position], :tb1)\n",
    "#f1 = constructPDF!(model, s, [sig_itp,sig_itp], [:energy, :energy], :tb1)\n",
    "#f2 = constructPDF!(model, b, [bkg_itp,bkg_itp], [:energy, :energy], :tb1)\n",
    "@show f1\n",
    "#combinePDFs!(model, [f1, f2], :tb1)\n",
    "combinePDFs!(model, [f1, f2], :tb1)\n",
    "\n",
    "generate_mock_dataset(model)\n",
    "\n",
    "options = Dict(\n",
    "    \"ftol_abs\"=>0,\n",
    "    \"ftol_rel\"=>1e-6,\n",
    "    \"initial_step\"=>[10.0, 10.0]\n",
    ")\n",
    "results = minimize!(model; options=options);\n",
    "\n",
    "compute_profiled_uncertainties!(results; σ=1, init_step=[1.0, 1.0], step=0.1)\n",
    "pretty_results(results)"
   ]
  },
  {
   "cell_type": "markdown",
   "metadata": {},
   "source": [
    "### 1D component fit: Signal v Background"
   ]
  },
  {
   "cell_type": "code",
   "execution_count": null,
   "metadata": {},
   "outputs": [],
   "source": [
    "## Plot spectra\n",
    "sx = collect(-10:0.01:10)\n",
    "p = getparam(model, \"signal\")\n",
    "signal_y = getparam(model, \"signal\").fit * sig_itp(sx) * (bins[2] - bins[1])\n",
    "bkg_y = getparam(model, \"background\").fit * bkg_itp(sx) * (bins[2] - bins[1])\n",
    "fs_y = 1000 * sig_itp(sx) * (bins[2]-bins[1])\n",
    "fb_y = 350 * bkg_itp(sx) * (bins[2]-bins[1])\n",
    "#plt.plot(sx, fs_y, label=\"fake signal\", color=\"blue\" )\n",
    "#plt.plot(sx, fb_y, label=\"fake signal\", color=\"red\")\n",
    "#plt.plot(sx, fs_y+fb_y, label=\"fake signal\", color=\"black\")\n",
    "\n",
    "\n",
    "plt.plot(sx, signal_y+bkg_y, label=\"Total\", color=\"black\")\n",
    "plt.plot(sx, signal_y, label=\"signal\")\n",
    "plt.plot(sx, bkg_y, label=\"bkg\")\n",
    "plt.hist(Batman.tb1.energy, bins=bins, label=\"Data\")\n",
    "plt.legend()"
   ]
  },
  {
   "cell_type": "code",
   "execution_count": null,
   "metadata": {},
   "outputs": [],
   "source": [
    "## Plot spectra\n",
    "sx = collect(-10:0.01:10)\n",
    "p = getparam(model, \"signal\")\n",
    "signal_y = getparam(model, \"signal\").fit * sig_pos(sx) * (bins[2] - bins[1])\n",
    "bkg_y = getparam(model, \"background\").fit * bkg_pos(sx) * (bins[2] - bins[1])\n",
    "plt.plot(sx, signal_y+bkg_y, label=\"Total\", color=\"black\")\n",
    "plt.plot(sx, signal_y, label=\"signal\")\n",
    "plt.plot(sx, bkg_y, label=\"bkg\")\n",
    "plt.hist(Batman.tb1.position, bins=bins, label=\"Data\")\n",
    "plt.legend()"
   ]
  },
  {
   "cell_type": "code",
   "execution_count": null,
   "metadata": {},
   "outputs": [],
   "source": [
    "hs = x -> x >= 0 ? 1 : 0\n",
    "#profile!(\"Signal\", results; prior=nothing)\n",
    "#uncertainty!(\"Signal\", results )\n",
    "\n",
    "interval_plot(results, \"signal\")\n",
    "plt.savefig(\"profile.svg\")\n",
    "plt.show()"
   ]
  },
  {
   "cell_type": "code",
   "execution_count": null,
   "metadata": {},
   "outputs": [],
   "source": [
    "correlation_plots(results)\n",
    "plt.show()"
   ]
  },
  {
   "cell_type": "code",
   "execution_count": null,
   "metadata": {},
   "outputs": [],
   "source": [
    "correlation_plots2(results)"
   ]
  },
  {
   "cell_type": "code",
   "execution_count": null,
   "metadata": {},
   "outputs": [],
   "source": [
    "## Bias/Pull Testing\n",
    "\n",
    "bias_vector = []\n",
    "pull_vector = []\n",
    "trials = collect(1:1000)\n",
    "\n",
    "errors = 0\n",
    "for t in trials\n",
    "    try\n",
    "        #mock_dataset()\n",
    "        generate_mock_dataset(model)\n",
    "        if size(model.datasets[1], 1) < 1\n",
    "            continue\n",
    "        end\n",
    "        results = minimize!(model; options=options)\n",
    "        profile!(\"signal\", results; init_step=[1.0, 1.0], step=0.1)\n",
    "        uncertainty!(\"signal\", results;σ=1)\n",
    "        sig_stats = getparam(model, \"signal\")\n",
    "        bias = sig_stats.fit - sig_stats.init\n",
    "        if bias >= 0\n",
    "            pull = bias / abs(sig_stats.fit - sig_stats.low)\n",
    "        else\n",
    "            pull = bias / abs(sig_stats.fit - sig_stats.high)\n",
    "        end\n",
    "        push!(bias_vector, bias)\n",
    "        push!(pull_vector, pull)\n",
    "    catch e\n",
    "        errors += 1\n",
    "    end\n",
    "    print(t,\"\\r\")\n",
    "end\n",
    "println(\"Failure rate: \", errors/maximum(trials))"
   ]
  },
  {
   "cell_type": "code",
   "execution_count": null,
   "metadata": {},
   "outputs": [],
   "source": [
    "@show mean = sum(bias_vector) / length(bias_vector)\n",
    "plt.hist(bias_vector, bins=100);"
   ]
  },
  {
   "cell_type": "code",
   "execution_count": null,
   "metadata": {},
   "outputs": [],
   "source": [
    "@show mean = sum(pull_vector)/length(pull_vector)\n",
    "@show dev = sqrt(sum((pull_vector.-mean).^2)/length(pull_vector))\n",
    "\n",
    "plt.hist(pull_vector, bins=collect(-3:0.1:3))\n",
    "\n",
    "println(\"Pull distribution: \", mean, \" +- \", dev);"
   ]
  },
  {
   "cell_type": "code",
   "execution_count": null,
   "metadata": {},
   "outputs": [],
   "source": []
  },
  {
   "cell_type": "code",
   "execution_count": null,
   "metadata": {},
   "outputs": [],
   "source": []
  }
 ],
 "metadata": {
  "kernelspec": {
   "display_name": "Julia 1.3.1",
   "language": "julia",
   "name": "julia-1.3"
  },
  "language_info": {
   "file_extension": ".jl",
   "mimetype": "application/julia",
   "name": "julia",
   "version": "1.3.1"
  }
 },
 "nbformat": 4,
 "nbformat_minor": 4
}
